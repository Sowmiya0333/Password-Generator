{
  "nbformat": 4,
  "nbformat_minor": 0,
  "metadata": {
    "colab": {
      "provenance": []
    },
    "kernelspec": {
      "name": "python3",
      "display_name": "Python 3"
    },
    "language_info": {
      "name": "python"
    }
  },
  "cells": [
    {
      "cell_type": "code",
      "execution_count": null,
      "metadata": {
        "id": "NjkBg2Q4768h"
      },
      "outputs": [],
      "source": [
        "!pip install strings\n"
      ]
    },
    {
      "cell_type": "code",
      "source": [
        "!pip install random"
      ],
      "metadata": {
        "id": "OOayqDyG8PMC"
      },
      "execution_count": null,
      "outputs": []
    },
    {
      "cell_type": "code",
      "source": [],
      "metadata": {
        "id": "JczaLoJk8f60"
      },
      "execution_count": null,
      "outputs": []
    },
    {
      "cell_type": "code",
      "source": [
        "import string\n",
        "import random"
      ],
      "metadata": {
        "id": "cN1PnbCY8Sci"
      },
      "execution_count": 3,
      "outputs": []
    },
    {
      "cell_type": "code",
      "source": [
        "s1 = string.ascii_lowercase\n",
        "s2 = string.ascii_uppercase\n",
        "s3 = string.digits\n",
        "s4 = string.punctuation"
      ],
      "metadata": {
        "id": "QZtoE-pq8c5-"
      },
      "execution_count": 5,
      "outputs": []
    },
    {
      "cell_type": "code",
      "source": [
        "plen = int(input(\"Enter password length: \"))"
      ],
      "metadata": {
        "colab": {
          "base_uri": "https://localhost:8080/"
        },
        "id": "5TavZrPQ8hTZ",
        "outputId": "2f1ca42b-0102-4ccc-d288-837d60611ae0"
      },
      "execution_count": 6,
      "outputs": [
        {
          "name": "stdout",
          "output_type": "stream",
          "text": [
            "Enter password length: 7\n"
          ]
        }
      ]
    },
    {
      "cell_type": "code",
      "source": [
        "s = []\n",
        "s.extend(list(s1))\n",
        "s.extend(list(s2))\n",
        "s.extend(list(s3))\n",
        "s.extend(list(s4))"
      ],
      "metadata": {
        "id": "k8Z89cPK8lfm"
      },
      "execution_count": 7,
      "outputs": []
    },
    {
      "cell_type": "code",
      "source": [
        "print(\"\".join(random.sample(s, plen)))"
      ],
      "metadata": {
        "colab": {
          "base_uri": "https://localhost:8080/"
        },
        "id": "W4V7IoRJ8_KV",
        "outputId": "ca12563e-a0e3-48cd-bfc1-7a767170aca7"
      },
      "execution_count": 8,
      "outputs": [
        {
          "output_type": "stream",
          "name": "stdout",
          "text": [
            "d%3-<Vc\n"
          ]
        }
      ]
    },
    {
      "cell_type": "code",
      "source": [
        "import string\n",
        "import random\n",
        "\n",
        "if __name__ == \"__main__\":\n",
        "    s1 = string.ascii_lowercase\n",
        "    s2 = string.ascii_uppercase\n",
        "    s3 = string.digits\n",
        "    s4 = string.punctuation\n",
        "\n",
        "    plen = int(input(\"Enter password length: \"))\n",
        "    s = []\n",
        "    s.extend(list(s1))\n",
        "    s.extend(list(s2))\n",
        "    s.extend(list(s3))\n",
        "    s.extend(list(s4))\n",
        "\n",
        "    print(\"Your password: \", end=\"\")\n",
        "    print(\"\".join(random.sample(s, plen)))"
      ],
      "metadata": {
        "colab": {
          "base_uri": "https://localhost:8080/"
        },
        "id": "RMU-fFCo9ILN",
        "outputId": "3894491e-ab60-4191-9698-88521275d78e"
      },
      "execution_count": 9,
      "outputs": [
        {
          "output_type": "stream",
          "name": "stdout",
          "text": [
            "Enter password length: 7\n",
            "Your password: I2x7z^A\n"
          ]
        }
      ]
    },
    {
      "cell_type": "code",
      "source": [],
      "metadata": {
        "id": "2qpWkpO19Nqn"
      },
      "execution_count": null,
      "outputs": []
    }
  ]
}